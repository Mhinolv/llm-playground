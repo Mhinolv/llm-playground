{
 "cells": [
  {
   "cell_type": "code",
   "execution_count": 1,
   "id": "221f6824-243a-4e09-a778-0408f4dc36e1",
   "metadata": {},
   "outputs": [],
   "source": [
    "import llm\n",
    "import pandas as pd\n",
    "from pandas import DataFrame\n",
    "import seaborn as sns\n",
    "from matplotlib import pyplot as plt\n",
    "import numpy as np"
   ]
  },
  {
   "cell_type": "code",
   "execution_count": 2,
   "id": "5a9e5935-af31-4830-8805-4ecab35ce722",
   "metadata": {},
   "outputs": [],
   "source": [
    "dataPath = '/Users/MarkHinojosa/llm-base/Raw Data/FEEDBACK.csv'\n",
    "dataPath2 = '/Users/MarkHinojosa/llm-base/Raw Data/REVIEWS.csv'"
   ]
  },
  {
   "cell_type": "code",
   "execution_count": 3,
   "id": "9528fec4-b43d-42a4-876e-77aa25341ea7",
   "metadata": {},
   "outputs": [],
   "source": [
    "responseDF = pd.read_csv(dataPath)\n",
    "reviewDF = pd.read_csv(dataPath2)"
   ]
  },
  {
   "cell_type": "code",
   "execution_count": 4,
   "id": "4a8c4085-1465-497f-98be-e37a2c3da7d9",
   "metadata": {},
   "outputs": [
    {
     "name": "stdout",
     "output_type": "stream",
     "text": [
      "<class 'pandas.core.frame.DataFrame'>\n",
      "RangeIndex: 1001 entries, 0 to 1000\n",
      "Data columns (total 10 columns):\n",
      " #   Column                                                Non-Null Count  Dtype\n",
      "---  ------                                                --------------  -----\n",
      " 0   Unnamed: 0                                            1001 non-null   int64\n",
      " 1   Student ID                                            1001 non-null   int64\n",
      " 2   Well versed with the subject                          1001 non-null   int64\n",
      " 3   Explains concepts in an understandable way            1001 non-null   int64\n",
      " 4   Use of presentations                                  1001 non-null   int64\n",
      " 5   Degree of difficulty of assignments                   1001 non-null   int64\n",
      " 6   Solves doubts willingly                               1001 non-null   int64\n",
      " 7   Structuring of the course                             1001 non-null   int64\n",
      " 8   Provides support for students going above and beyond  1001 non-null   int64\n",
      " 9   Course recommendation based on relevance              1001 non-null   int64\n",
      "dtypes: int64(10)\n",
      "memory usage: 78.3 KB\n"
     ]
    }
   ],
   "source": [
    "responseDF.info()"
   ]
  },
  {
   "cell_type": "code",
   "execution_count": 5,
   "id": "1176c081-0f6a-4e04-99ab-8cecdd3c0c17",
   "metadata": {},
   "outputs": [
    {
     "data": {
      "text/html": [
       "<div>\n",
       "<style scoped>\n",
       "    .dataframe tbody tr th:only-of-type {\n",
       "        vertical-align: middle;\n",
       "    }\n",
       "\n",
       "    .dataframe tbody tr th {\n",
       "        vertical-align: top;\n",
       "    }\n",
       "\n",
       "    .dataframe thead th {\n",
       "        text-align: right;\n",
       "    }\n",
       "</style>\n",
       "<table border=\"1\" class=\"dataframe\">\n",
       "  <thead>\n",
       "    <tr style=\"text-align: right;\">\n",
       "      <th></th>\n",
       "      <th>Unnamed: 0</th>\n",
       "      <th>Student ID</th>\n",
       "      <th>Well versed with the subject</th>\n",
       "      <th>Explains concepts in an understandable way</th>\n",
       "      <th>Use of presentations</th>\n",
       "      <th>Degree of difficulty of assignments</th>\n",
       "      <th>Solves doubts willingly</th>\n",
       "      <th>Structuring of the course</th>\n",
       "      <th>Provides support for students going above and beyond</th>\n",
       "      <th>Course recommendation based on relevance</th>\n",
       "    </tr>\n",
       "  </thead>\n",
       "  <tbody>\n",
       "    <tr>\n",
       "      <th>0</th>\n",
       "      <td>0</td>\n",
       "      <td>340</td>\n",
       "      <td>5</td>\n",
       "      <td>2</td>\n",
       "      <td>7</td>\n",
       "      <td>6</td>\n",
       "      <td>9</td>\n",
       "      <td>2</td>\n",
       "      <td>1</td>\n",
       "      <td>8</td>\n",
       "    </tr>\n",
       "    <tr>\n",
       "      <th>1</th>\n",
       "      <td>1</td>\n",
       "      <td>253</td>\n",
       "      <td>6</td>\n",
       "      <td>5</td>\n",
       "      <td>8</td>\n",
       "      <td>6</td>\n",
       "      <td>2</td>\n",
       "      <td>1</td>\n",
       "      <td>2</td>\n",
       "      <td>9</td>\n",
       "    </tr>\n",
       "    <tr>\n",
       "      <th>2</th>\n",
       "      <td>2</td>\n",
       "      <td>680</td>\n",
       "      <td>7</td>\n",
       "      <td>7</td>\n",
       "      <td>6</td>\n",
       "      <td>5</td>\n",
       "      <td>4</td>\n",
       "      <td>2</td>\n",
       "      <td>3</td>\n",
       "      <td>1</td>\n",
       "    </tr>\n",
       "    <tr>\n",
       "      <th>3</th>\n",
       "      <td>3</td>\n",
       "      <td>806</td>\n",
       "      <td>9</td>\n",
       "      <td>6</td>\n",
       "      <td>7</td>\n",
       "      <td>1</td>\n",
       "      <td>5</td>\n",
       "      <td>9</td>\n",
       "      <td>4</td>\n",
       "      <td>6</td>\n",
       "    </tr>\n",
       "    <tr>\n",
       "      <th>4</th>\n",
       "      <td>4</td>\n",
       "      <td>632</td>\n",
       "      <td>8</td>\n",
       "      <td>10</td>\n",
       "      <td>8</td>\n",
       "      <td>4</td>\n",
       "      <td>6</td>\n",
       "      <td>6</td>\n",
       "      <td>9</td>\n",
       "      <td>9</td>\n",
       "    </tr>\n",
       "    <tr>\n",
       "      <th>5</th>\n",
       "      <td>5</td>\n",
       "      <td>832</td>\n",
       "      <td>7</td>\n",
       "      <td>2</td>\n",
       "      <td>7</td>\n",
       "      <td>8</td>\n",
       "      <td>3</td>\n",
       "      <td>5</td>\n",
       "      <td>1</td>\n",
       "      <td>4</td>\n",
       "    </tr>\n",
       "    <tr>\n",
       "      <th>6</th>\n",
       "      <td>6</td>\n",
       "      <td>772</td>\n",
       "      <td>9</td>\n",
       "      <td>3</td>\n",
       "      <td>5</td>\n",
       "      <td>2</td>\n",
       "      <td>10</td>\n",
       "      <td>3</td>\n",
       "      <td>8</td>\n",
       "      <td>1</td>\n",
       "    </tr>\n",
       "    <tr>\n",
       "      <th>7</th>\n",
       "      <td>7</td>\n",
       "      <td>961</td>\n",
       "      <td>9</td>\n",
       "      <td>8</td>\n",
       "      <td>7</td>\n",
       "      <td>4</td>\n",
       "      <td>4</td>\n",
       "      <td>3</td>\n",
       "      <td>3</td>\n",
       "      <td>10</td>\n",
       "    </tr>\n",
       "    <tr>\n",
       "      <th>8</th>\n",
       "      <td>8</td>\n",
       "      <td>814</td>\n",
       "      <td>6</td>\n",
       "      <td>5</td>\n",
       "      <td>8</td>\n",
       "      <td>6</td>\n",
       "      <td>4</td>\n",
       "      <td>4</td>\n",
       "      <td>7</td>\n",
       "      <td>9</td>\n",
       "    </tr>\n",
       "    <tr>\n",
       "      <th>9</th>\n",
       "      <td>9</td>\n",
       "      <td>863</td>\n",
       "      <td>5</td>\n",
       "      <td>9</td>\n",
       "      <td>4</td>\n",
       "      <td>7</td>\n",
       "      <td>9</td>\n",
       "      <td>4</td>\n",
       "      <td>4</td>\n",
       "      <td>5</td>\n",
       "    </tr>\n",
       "  </tbody>\n",
       "</table>\n",
       "</div>"
      ],
      "text/plain": [
       "   Unnamed: 0  Student ID  Well versed with the subject  \\\n",
       "0           0         340                             5   \n",
       "1           1         253                             6   \n",
       "2           2         680                             7   \n",
       "3           3         806                             9   \n",
       "4           4         632                             8   \n",
       "5           5         832                             7   \n",
       "6           6         772                             9   \n",
       "7           7         961                             9   \n",
       "8           8         814                             6   \n",
       "9           9         863                             5   \n",
       "\n",
       "   Explains concepts in an understandable way  Use of presentations  \\\n",
       "0                                           2                     7   \n",
       "1                                           5                     8   \n",
       "2                                           7                     6   \n",
       "3                                           6                     7   \n",
       "4                                          10                     8   \n",
       "5                                           2                     7   \n",
       "6                                           3                     5   \n",
       "7                                           8                     7   \n",
       "8                                           5                     8   \n",
       "9                                           9                     4   \n",
       "\n",
       "   Degree of difficulty of assignments  Solves doubts willingly  \\\n",
       "0                                    6                        9   \n",
       "1                                    6                        2   \n",
       "2                                    5                        4   \n",
       "3                                    1                        5   \n",
       "4                                    4                        6   \n",
       "5                                    8                        3   \n",
       "6                                    2                       10   \n",
       "7                                    4                        4   \n",
       "8                                    6                        4   \n",
       "9                                    7                        9   \n",
       "\n",
       "   Structuring of the course  \\\n",
       "0                          2   \n",
       "1                          1   \n",
       "2                          2   \n",
       "3                          9   \n",
       "4                          6   \n",
       "5                          5   \n",
       "6                          3   \n",
       "7                          3   \n",
       "8                          4   \n",
       "9                          4   \n",
       "\n",
       "   Provides support for students going above and beyond  \\\n",
       "0                                                  1      \n",
       "1                                                  2      \n",
       "2                                                  3      \n",
       "3                                                  4      \n",
       "4                                                  9      \n",
       "5                                                  1      \n",
       "6                                                  8      \n",
       "7                                                  3      \n",
       "8                                                  7      \n",
       "9                                                  4      \n",
       "\n",
       "   Course recommendation based on relevance  \n",
       "0                                         8  \n",
       "1                                         9  \n",
       "2                                         1  \n",
       "3                                         6  \n",
       "4                                         9  \n",
       "5                                         4  \n",
       "6                                         1  \n",
       "7                                        10  \n",
       "8                                         9  \n",
       "9                                         5  "
      ]
     },
     "execution_count": 5,
     "metadata": {},
     "output_type": "execute_result"
    }
   ],
   "source": [
    "responseDF.head(10)"
   ]
  },
  {
   "cell_type": "code",
   "execution_count": 6,
   "id": "6ecaa381-4a6a-4046-bd3b-31dcdb3e5d7f",
   "metadata": {},
   "outputs": [],
   "source": [
    "model = llm.get_model(\"wizardlm-13b-v1\")"
   ]
  },
  {
   "cell_type": "code",
   "execution_count": 7,
   "id": "7041764b-7dfd-44b9-aa7b-ad89743c693c",
   "metadata": {},
   "outputs": [
    {
     "name": "stdout",
     "output_type": "stream",
     "text": [
      "This data appears to be a survey of student opinions on various aspects of their courses. The \"Course recommendation based on relevance\" column is the most relevant for this analysis, as it provides an overall rating of each course based on student feedback. However, to fully understand the data and provide meaningful insights, we would need more context about what these ratings represent (e.g., 1-5 scale or a different system) and how they were collected (e.g., self-reported by students).\n",
      "\n",
      "Based solely on this information, it seems that Course 9 has the highest rating in terms of relevance, with an average score of 6 out of 8. Courses 1 and 3 also have relatively high ratings, while Course 4 has a lower rating compared to others. It's important to note that these scores are based on subjective opinions from students and may not reflect the actual quality or relevance of each course.\n",
      "\n",
      "To provide more detailed insights, we would need additional data such as:\n",
      "- The specific topics covered in each course\n",
      "- Student demographics (e.g., major, year level) to understand if certain courses are more popular among particular groups\n",
      "- Course difficulty levels and other objective measures of quality\n",
      "- More context about the \"Explains concepts well,\" \"Use of presentations,\" \"Degree of difficulty of assignments,\" \"Solves doubts willingly,\" \"Structuring of the course,\" and \"Provides support for students going above and beyond\" columns, as these could potentially influence student ratings.\n",
      "\n",
      "Without this additional information, it's difficult to draw definitive conclusions about which courses are most relevant or popular among students.\n"
     ]
    }
   ],
   "source": [
    "response = model.prompt(f\"Can you create high level summary of the data within the column: Course recommendation based on relevance, in this data - {responseDF}\",\n",
    "                        system=\"Answer like a Sr. Data Analyst\")\n",
    "print(response.text())"
   ]
  },
  {
   "cell_type": "code",
   "execution_count": 7,
   "id": "d84aed5f-4aa5-4a78-9293-74589e7de229",
   "metadata": {},
   "outputs": [
    {
     "data": {
      "text/plain": [
       "Unnamed: 0                                              500.0\n",
       "Student ID                                              500.0\n",
       "Well versed with the subject                              8.0\n",
       "Explains concepts in an understandable way                6.0\n",
       "Use of presentations                                      6.0\n",
       "Degree of difficulty of assignments                       5.0\n",
       "Solves doubts willingly                                   6.0\n",
       "Structuring of the course                                 6.0\n",
       "Provides support for students going above and beyond      6.0\n",
       "Course recommendation based on relevance                  6.0\n",
       "dtype: float64"
      ]
     },
     "execution_count": 7,
     "metadata": {},
     "output_type": "execute_result"
    }
   ],
   "source": [
    "responseDF.median()"
   ]
  },
  {
   "cell_type": "code",
   "execution_count": 8,
   "id": "07d0298c-6e24-4b7b-b136-6f241a75092d",
   "metadata": {},
   "outputs": [
    {
     "data": {
      "image/png": "[encoded data removed]",
      "text/plain": [
       "<Figure size 640x480 with 1 Axes>"
      ]
     },
     "metadata": {},
     "output_type": "display_data"
    }
   ],
   "source": [
    "sns.boxplot(data=responseDF['Structuring of the course'])\n",
    "plt.show()"
   ]
  },
  {
   "cell_type": "code",
   "execution_count": 9,
   "id": "ce054483-5161-4258-9e6d-768f24dcb20f",
   "metadata": {},
   "outputs": [
    {
     "data": {
      "image/png": "[encoded data removed]",
      "text/plain": [
       "<Figure size 640x480 with 1 Axes>"
      ]
     },
     "metadata": {},
     "output_type": "display_data"
    }
   ],
   "source": [
    "ax = sns.histplot(data=responseDF['Structuring of the course'])\n",
    "plt.show(ax)"
   ]
  },
  {
   "cell_type": "code",
   "execution_count": 26,
   "id": "f3001820-05e2-41b5-aab4-49a51526d15d",
   "metadata": {},
   "outputs": [
    {
     "name": "stdout",
     "output_type": "stream",
     "text": [
      "Based on the information provided in your question, it seems like you have a histogram graph with an x-axis representing scores and a y-axis representing the count of those scores. The axes are labeled as (0.125, 0.11) to (0.775, 0.77).\n",
      "\n",
      "However, without seeing the actual data or knowing more about what you're trying to analyze, it's difficult for me to provide a detailed summary of your histogram data. But I can give you some general guidance on how to interpret and summarize such a graph:\n",
      "\n",
      "1. **Identify the Range of Scores**: The x-axis represents scores ranging from 0.125 to 0.775, which means that the data likely includes values within this range. This can provide you with an idea about the distribution and variability of your data.\n",
      "\n",
      "2. **Identify the Frequency Distribution**: The y-axis represents the count of scores in each interval or bin on the x-axis. By looking at these counts, you can identify how frequently different score values occur within your dataset. This information can help you understand the central tendency and dispersion of your data.\n",
      "\n",
      "3. **Identify the Central Tendency**: The center of the histogram (the peak) represents the most common or typical scores in your dataset. You might also consider the median, mode, or mean as measures of central tendency depending on what's appropriate for your analysis.\n",
      "\n",
      "4. **Identify the Dispersion**: The shape and spread of the histogram can provide information about how much variation there is within your data. A wide histogram with many bins indicates a high level of dispersion, while a narrow histogram with fewer bins suggests less variability in the scores.\n",
      "\n",
      "5. **Identify Outliers\n"
     ]
    }
   ],
   "source": [
    "response = model.prompt(f\"Can you create high level summary of the data from this histogram graph where x-axis is the score and y-axis is the count of the score - {ax}\",\n",
    "                        system=\"Answer like a Sr. Data Analyst\")\n",
    "print(response.text())"
   ]
  },
  {
   "cell_type": "code",
   "execution_count": 10,
   "id": "e53b13cb-28ff-43f1-8621-0f56aafb210a",
   "metadata": {},
   "outputs": [
    {
     "name": "stdout",
     "output_type": "stream",
     "text": [
      "To find the average of the \"Use of presentations\" column in this dataset, you would need to follow these steps:\n",
      "\n",
      "1. Add up all the values in the \"Use of presentations\" column. This can be done using a simple sum function or by looping through each row and adding the value for that row to a running total.\n",
      "2. Count the number of rows in the dataset (in this case, 1001).\n",
      "3. Divide the sum of the \"Use of presentations\" column by the number of rows. This will give you the average.\n",
      "\n",
      "Here's an example code snippet that does this:\n",
      "```python\n",
      "import pandas as pd\n",
      "\n",
      "# Assuming your data is in a DataFrame called df, you can use the following code to find the average:\n",
      "\n",
      "avg = (df['Use of presentations'].sum() / len(df))\n",
      "print(\"The average of the Use of presentations column is:\", avg)\n",
      "```\n",
      "This will output \"The average of the Use of presentations column is: 2.504761904761905\". This means that on average, each student used presentations for approximately 2.5 hours in this dataset.\n"
     ]
    }
   ],
   "source": [
    "response = model.prompt(f\"What is the average of the Use of presentations column in this dataset - {responseDF}\",\n",
    "                        system=\"Answer like a Sr. Data Analyst\")\n",
    "print(response.text())"
   ]
  },
  {
   "cell_type": "code",
   "execution_count": 12,
   "id": "479d86a0-5d43-4d6a-9c48-fea0edc94435",
   "metadata": {},
   "outputs": [
    {
     "data": {
      "text/plain": [
       "Unnamed: 0                                              500.000000\n",
       "Student ID                                              500.000000\n",
       "Well versed with the subject                              7.497502\n",
       "Explains concepts in an understandable way                6.081918\n",
       "Use of presentations                                      5.942058\n",
       "Degree of difficulty of assignments                       5.430569\n",
       "Solves doubts willingly                                   5.474525\n",
       "Structuring of the course                                 5.636364\n",
       "Provides support for students going above and beyond      5.662338\n",
       "Course recommendation based on relevance                  5.598402\n",
       "dtype: float64"
      ]
     },
     "execution_count": 12,
     "metadata": {},
     "output_type": "execute_result"
    }
   ],
   "source": [
    "responseDF.mean()"
   ]
  },
  {
   "cell_type": "code",
   "execution_count": 8,
   "id": "166915ea-57f5-45de-a8ad-66c8375cc93d",
   "metadata": {},
   "outputs": [],
   "source": [
    "sampleText = reviewDF['text_'].head(10)"
   ]
  },
  {
   "cell_type": "code",
   "execution_count": 11,
   "id": "07a1e64b-3ce4-4091-ba0f-686fb9333e0f",
   "metadata": {},
   "outputs": [
    {
     "name": "stdout",
     "output_type": "stream",
     "text": [
      "To provide you with the top 20 commonly used terms in these reviews, I will first need to clean and preprocess the data. Here's how I would approach it:\n",
      "\n",
      "1. **Data Cleaning**: Remove any irrelevant information such as punctuation marks, special characters, numbers, etc., from the text using regular expressions or libraries like `nltk`. \n",
      "\n",
      "2. **Tokenization**: Break down each review into individual words (tokens) to analyze them individually. This can be done using Python's built-in function `split()` or by using a library like NLTK's `word_tokenize()`.\n",
      "\n",
      "3. **Stopwords Removal**: Remove common, insignificant words such as \"the\", \"and\", \"a\", etc., which do not provide any meaningful information about the product. Libraries like NLTK have a list of stopwords that can be used for this purpose.\n",
      "\n",
      "4. **Counting Frequencies**: Count the frequency of each word in all reviews combined using Python's built-in function `collections.Counter()`. This will give us a dictionary where keys are words and values are their frequencies.\n",
      "\n",
      "5. **Sorting by Frequency**: Sort this dictionary in descending order based on the count to get the top 20 most frequently used terms.\n",
      "\n",
      "Here's what the code might look like:\n",
      "\n",
      "```python\n",
      "import re\n",
      "from collections import Counter\n",
      "from nltk.corpus import stopwords\n",
      "\n",
      "# Assuming you have a list of reviews as text_ in your environment, here is how you can do it:\n",
      "\n",
      "# Step 1: Data cleaning and tokenization\n",
      "\n",
      " ```python\n",
      " def preprocess(text):\n",
      "     # Remove punctuation marks and numbers\n",
      "     text = re.sub('[^\\w\\s]', '',\n"
     ]
    }
   ],
   "source": [
    "response = model.prompt(f\"Provide the top 20 commonly used terms in these reviews with a count of use: {sampleText}\",\n",
    "                        system=\"Answer like a Sr. Data Analyst\")\n",
    "print(response.text())"
   ]
  }
 ],
 "metadata": {
  "kernelspec": {
   "display_name": "Python 3 (ipykernel)",
   "language": "python",
   "name": "python3"
  },
  "language_info": {
   "codemirror_mode": {
    "name": "ipython",
    "version": 3
   },
   "file_extension": ".py",
   "mimetype": "text/x-python",
   "name": "python",
   "nbconvert_exporter": "python",
   "pygments_lexer": "ipython3",
   "version": "3.9.6"
  }
 },
 "nbformat": 4,
 "nbformat_minor": 5
}
